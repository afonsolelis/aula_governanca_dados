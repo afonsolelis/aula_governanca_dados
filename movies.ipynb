{
 "cells": [
  {
   "cell_type": "markdown",
   "metadata": {},
   "source": [
    "\n",
    "## Antecedentes e Objetivos\n",
    "\n",
    "O objetivo deste desafio é familiarizar-se com o design de banco de dados, uma habilidade crucial para a governança de dados em empresas.\n",
    "\n",
    "## Specs\n",
    "\n",
    "### Movie database design\n",
    "\n",
    "Imagine que o IMDB precisa identificar como gerenciar suas regras de dados.\n",
    "Existem muitas maneiras de construir um banco de dados de filmes, mas vamos começar construindo um sistema básico com `users`, `movies` e `views`.\n",
    "\n",
    "Aqui estão os requisitos do nosso sistema:\n",
    "\n",
    "- Um `user` tem um `first_name`, `last_name`, uma `age` e um `email`.\n",
    "- Um `movie` tem um `title`, um `release_year` e uma `rating`.\n",
    "- Um `usuário` pode `ver` muitos `filmes`.\n",
    "- Um `filme` pode ser `visto` por muitos `usuários`.\n",
    "- Uma `visão` é definida por uma `data`.\n",
    "\n",
    "Quais colunas são chaves primárias? Quais são as chaves estrangeiras? Qual é a relação entre as tabelas? Como chamamos a tabela `views`?\n",
    "\n",
    "### Desenhe o esquema\n",
    "\n",
    "Projete o esquema de banco de dados para um banco de dados de filmes que atenda a esses requisitos.\n",
    "Para isso, você deve utilizar o [wwwsqldesigner](https://github.com/ondras/wwwsqldesigner).\n",
    "\n",
    "Se precisar faça um clone do repositório: `git clone git@github.com:ondras/wwwsqldesigner.git`, mas nesta pasta você já encontra o programa, basta fazer `cd wwwsqldesigner` e rode o comando docker:\n",
    "\n",
    "```bash\n",
    "docker build -t wwwsqldesigner .\n",
    "docker run -d -p 8080:8080 wwwsqldesigner\n",
    "```\n",
    "\n",
    "e abra o programa no [http://127.0.0.1:8080]( http://127.0.0.1:8080)\n",
    "\n",
    "Para verificar sua solução, clique em \"Save / Load\", depois em \"Save XML\", crie um arquivo localmente chamado `movies.xml` localmente e copie/cole o código XML gerado nele. Você pode então rodar `make` para verificar sua solução.\n",
    "\n",
    "Se você vir um erro estranho, verifique a sintaxe de suas colunas e tabelas nomeadas.\n",
    "\n",
    "## Pontos-chave de aprendizagem\n",
    "\n",
    "- Familiarize-se com o uso da ferramenta [wwwsqldesigner](https://github.com/ondras/wwwsqldesigner) para criar um esquema de banco de dados com várias tabelas.\n",
    "- Entenda a diferença entre chave primária e chave estrangeira.\n",
    "- Entenda a diferença entre [relacionamentos `1:N` e `N:N`](https://en.wikipedia.org/wiki/Cardinality_(data_modeling))\n",
    "- Entenda as regras de negócio de empresas e como pensar na forma de guardar dados através de um banco de dados relacional.\n"
   ]
  }
 ],
 "metadata": {
  "language_info": {
   "name": "python"
  },
  "orig_nbformat": 4
 },
 "nbformat": 4,
 "nbformat_minor": 2
}
